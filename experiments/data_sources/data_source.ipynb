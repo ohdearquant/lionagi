{
 "cells": [
  {
   "cell_type": "code",
   "execution_count": null,
   "metadata": {},
   "outputs": [],
   "source": [
    "# %pip install pandas, finnhub-python, yfinance"
   ]
  },
  {
   "cell_type": "code",
   "execution_count": 1,
   "metadata": {},
   "outputs": [],
   "source": [
    "from lionhub import DataSource"
   ]
  },
  {
   "cell_type": "markdown",
   "metadata": {},
   "source": [
    "#### finnhub"
   ]
  },
  {
   "cell_type": "code",
   "execution_count": null,
   "metadata": {},
   "outputs": [],
   "source": [
    "# you need a finnhub api key, save in .env as FINNHUB_API_KEY=....\n",
    "\n",
    "tickers = [\"AAPL\", \"TSLA\", \"JPM\", \"V\"]\n",
    "from_, to_ = \"2023-01-01\", \"2024-01-01\""
   ]
  },
  {
   "cell_type": "code",
   "execution_count": null,
   "metadata": {},
   "outputs": [],
   "source": [
    "import pandas as pd\n",
    "\n",
    "dfs = [\n",
    "    DataSource.get_finhubb_info_df(\n",
    "        info_kind=\"company_news\", symbol=ticker, _from=from_, to=to_\n",
    "    )\n",
    "    for ticker in tickers\n",
    "]\n",
    "\n",
    "dfs_news = pd.concat(dfs)\n",
    "dfs_news.drop_duplicates(subset=[\"headline\"], inplace=True, ignore_index=True)"
   ]
  },
  {
   "cell_type": "code",
   "execution_count": null,
   "metadata": {},
   "outputs": [],
   "source": [
    "dfs_news.head()"
   ]
  },
  {
   "cell_type": "markdown",
   "metadata": {},
   "source": [
    "#### yfinance"
   ]
  },
  {
   "cell_type": "code",
   "execution_count": null,
   "metadata": {},
   "outputs": [],
   "source": [
    "histories = [\n",
    "    DataSource.get_yfinance_stock_prices(ticker, start_date=from_, end_date=to_)\n",
    "    for ticker in tickers\n",
    "]\n",
    "\n",
    "histories[0].head()"
   ]
  }
 ],
 "metadata": {
  "kernelspec": {
   "display_name": "hub_test",
   "language": "python",
   "name": "python3"
  },
  "language_info": {
   "codemirror_mode": {
    "name": "ipython",
    "version": 3
   },
   "file_extension": ".py",
   "mimetype": "text/x-python",
   "name": "python",
   "nbconvert_exporter": "python",
   "pygments_lexer": "ipython3",
   "version": "3.11.7"
  }
 },
 "nbformat": 4,
 "nbformat_minor": 2
}
