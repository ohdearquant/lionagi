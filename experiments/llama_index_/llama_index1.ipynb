{
 "cells": [
  {
   "cell_type": "code",
   "execution_count": 1,
   "metadata": {},
   "outputs": [],
   "source": [
    "from lionhub import LlamaIndex"
   ]
  },
  {
   "cell_type": "markdown",
   "metadata": {},
   "source": [
    "## A. LlamaIndex"
   ]
  },
  {
   "cell_type": "markdown",
   "metadata": {},
   "source": [
    "#### VectorStoreIndex"
   ]
  },
  {
   "cell_type": "code",
   "execution_count": null,
   "metadata": {},
   "outputs": [],
   "source": [
    "# processed chunks(nodes) in llamaIndex TextNode format\n",
    "chunks = \"\"\n",
    "\n",
    "vector_index_config = {\n",
    "    \"chunks\": chunks,\n",
    "    \"llm\": None,  # the llm object from llama_index, or one will be created\n",
    "    \"llm_provider\": None,  # default is OpenAI\n",
    "    \"llm_kwargs\": {\"temperature\": 0.1, \"model\": \"gpt-4-1106-preview\"},\n",
    "    \"service_context\": None,  # will use default\n",
    "    \"service_context_kwargs\": {},\n",
    "    \"index_kwargs\": {\"include_embeddings\": True},\n",
    "    \"reranker\": None,  # the reranker object\n",
    "    \"rerank_\": False,\n",
    "    \"reranker_type\": None,  # default LLM Reranker\n",
    "    \"reranker_kwargs\": {},\n",
    "    \"get_engine\": True,\n",
    "    \"engine_kwargs\": {\"similarity_top_k\": 3, \"response_mode\": \"tree_summarize\"},\n",
    "}\n",
    "\n",
    "vector_index, vector_query_engine = LlamaIndex.vector_index(**vector_index_config)"
   ]
  },
  {
   "cell_type": "markdown",
   "metadata": {},
   "source": [
    "#### KnowledgeGraphIndex"
   ]
  },
  {
   "cell_type": "code",
   "execution_count": null,
   "metadata": {},
   "outputs": [],
   "source": [
    "# processed chunks(nodes) in llamaIndex TextNode format\n",
    "chunks = \"\"\n",
    "\n",
    "kg_index_config = {\n",
    "    \"chunks\": chunks,\n",
    "    \"rerank_\": True,\n",
    "    \"reranker_type\": None,  # default LLM Reranker\n",
    "    \"reranker_kwargs\": {\"choice_batch_size\": 5, \"top_n\": 3},\n",
    "    \"get_engine\": True,\n",
    "    \"engine_kwargs\": {\"similarity_top_k\": 3, \"response_mode\": \"tree_summarize\"},\n",
    "    \"kg_triplet_extract_fn\": None,\n",
    "}\n",
    "\n",
    "kg_index, kg_query_engine = LlamaIndex.kg_index(**kg_index_config)"
   ]
  },
  {
   "cell_type": "markdown",
   "metadata": {},
   "source": [
    "## B. LlamaPack"
   ]
  },
  {
   "cell_type": "code",
   "execution_count": null,
   "metadata": {},
   "outputs": [],
   "source": [
    "from lionhub import LlamaPack\n",
    "\n",
    "stock_market_engine = LlamaPack.stock_market_pack([\"MSFT\"], period=\"1mo\")\n",
    "response = stock_market_engine.run(\"What is the average closing price for MSFT?\")"
   ]
  },
  {
   "cell_type": "code",
   "execution_count": null,
   "metadata": {},
   "outputs": [],
   "source": [
    "hybrid_fusion_kwargs = {\n",
    "    \"nodes\": chunks,\n",
    "    \"chunk_size\": 256,\n",
    "    \"vector_similarity_top_k\": 2,\n",
    "    \"bm25_similarity_top_k\": 2,\n",
    "}\n",
    "\n",
    "hybrid_fusion_engine = LlamaPack.hybrid_fusion_retriever_pack(**hybrid_fusion_kwargs)\n",
    "response = hybrid_fusion_engine.run(\"Tell me about a Music celebritiy.\")"
   ]
  }
 ],
 "metadata": {
  "kernelspec": {
   "display_name": "hub_test",
   "language": "python",
   "name": "python3"
  },
  "language_info": {
   "codemirror_mode": {
    "name": "ipython",
    "version": 3
   },
   "file_extension": ".py",
   "mimetype": "text/x-python",
   "name": "python",
   "nbconvert_exporter": "python",
   "pygments_lexer": "ipython3",
   "version": "3.11.7"
  }
 },
 "nbformat": 4,
 "nbformat_minor": 2
}
