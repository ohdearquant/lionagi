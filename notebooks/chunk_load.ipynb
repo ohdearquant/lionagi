{
 "cells": [
  {
   "cell_type": "code",
   "execution_count": 1,
   "metadata": {},
   "outputs": [],
   "source": [
    "from lionagi import chunk, load"
   ]
  },
  {
   "cell_type": "code",
   "execution_count": 2,
   "metadata": {},
   "outputs": [],
   "source": [
    "# by default we use llamaindex simple directory reader\n",
    "\n",
    "load_config = {\n",
    "    \"input_dir\": \"lionagi_codes/\",\n",
    "    \"recursive\": True,\n",
    "    \"required_exts\": [\".py\"],\n",
    "    \"to_lion\": False,\n",
    "}\n",
    "\n",
    "docs = load(**load_config)"
   ]
  },
  {
   "cell_type": "code",
   "execution_count": 9,
   "metadata": {},
   "outputs": [],
   "source": [
    "chunk_config = {\n",
    "    \"chunker\": \"CodeSplitter\",\n",
    "    \"chunker_type\": \"llama_index\",\n",
    "    \"chunker_kwargs\": {\n",
    "        \"language\": \"python\",\n",
    "        \"chunk_lines\": 100,\n",
    "        \"chunk_lines_overlap\": 10,\n",
    "        \"max_chars\": 1500,\n",
    "    },\n",
    "}\n",
    "\n",
    "chunks = chunk(docs, **chunk_config)"
   ]
  },
  {
   "cell_type": "code",
   "execution_count": 4,
   "metadata": {},
   "outputs": [],
   "source": [
    "a = chunks[1]"
   ]
  },
  {
   "cell_type": "code",
   "execution_count": 5,
   "metadata": {},
   "outputs": [
    {
     "data": {
      "text/plain": [
       "'from . import *\\n\\nfrom .branch import Branch, ExecutableBranch\\nfrom .session import Session\\nfrom .schema import (\\n    Tool,\\n    Structure,\\n    ActionNode,\\n    Relationship,\\n    ActionSelection,\\n    Condition,\\n)\\nfrom .agent import BaseAgent\\nfrom .messages import Instruction, System, Response\\nfrom .tool import func_to_tool'"
      ]
     },
     "execution_count": 5,
     "metadata": {},
     "output_type": "execute_result"
    }
   ],
   "source": [
    "a.content"
   ]
  },
  {
   "cell_type": "code",
   "execution_count": 8,
   "metadata": {},
   "outputs": [
    {
     "data": {
      "text/plain": [
       "['file_path',\n",
       " 'file_name',\n",
       " 'file_type',\n",
       " 'file_size',\n",
       " 'creation_date',\n",
       " 'last_modified_date']"
      ]
     },
     "execution_count": 8,
     "metadata": {},
     "output_type": "execute_result"
    }
   ],
   "source": [
    "a.meta_keys()"
   ]
  },
  {
   "cell_type": "code",
   "execution_count": 7,
   "metadata": {},
   "outputs": [
    {
     "data": {
      "text/plain": [
       "{'node_id': '53e9ffbd-dda9-454a-9fb8-d06723c6871f',\n",
       " 'timestamp': '2024_03_30T17_04_19_292921+00_00',\n",
       " 'meta': {'file_path': '/Users/lion/GitHub/gitco/RAG use cases/lionagi_codes/core/__init__.py',\n",
       "  'file_name': '__init__.py',\n",
       "  'file_type': 'text/x-python',\n",
       "  'file_size': 322,\n",
       "  'creation_date': '2024-03-25',\n",
       "  'last_modified_date': '2024-03-25'},\n",
       " 'content': 'from . import *\\n\\nfrom .branch import Branch, ExecutableBranch\\nfrom .session import Session\\nfrom .schema import (\\n    Tool,\\n    Structure,\\n    ActionNode,\\n    Relationship,\\n    ActionSelection,\\n    Condition,\\n)\\nfrom .agent import BaseAgent\\nfrom .messages import Instruction, System, Response\\nfrom .tool import func_to_tool',\n",
       " 'embedding': None,\n",
       " 'excluded_embed_metadata_keys': ['file_name',\n",
       "  'file_type',\n",
       "  'file_size',\n",
       "  'creation_date',\n",
       "  'last_modified_date',\n",
       "  'last_accessed_date'],\n",
       " 'excluded_llm_metadata_keys': ['file_name',\n",
       "  'file_type',\n",
       "  'file_size',\n",
       "  'creation_date',\n",
       "  'last_modified_date',\n",
       "  'last_accessed_date'],\n",
       " 'relationships': {<NodeRelationship.SOURCE: '1'>: {'node_id': '13f98eca-47d6-4da6-9cd3-b37eeada1981',\n",
       "   'node_type': <ObjectType.DOCUMENT: '4'>,\n",
       "   'metadata': {'file_path': '/Users/lion/GitHub/gitco/RAG use cases/lionagi_codes/core/__init__.py',\n",
       "    'file_name': '__init__.py',\n",
       "    'file_type': 'text/x-python',\n",
       "    'file_size': 322,\n",
       "    'creation_date': '2024-03-25',\n",
       "    'last_modified_date': '2024-03-25'},\n",
       "   'hash': '22fd6535fb3b92ea441af3bd4357676c7aa55fb90c92ccb41384c3c628658d3a',\n",
       "   'class_name': 'RelatedNodeInfo'},\n",
       "  <NodeRelationship.PREVIOUS: '2'>: {'node_id': '82bc62ba-c6b9-4caf-99fa-e6f9d7a21270',\n",
       "   'node_type': <ObjectType.TEXT: '1'>,\n",
       "   'metadata': {'file_path': '/Users/lion/GitHub/gitco/RAG use cases/lionagi_codes/__init__.py',\n",
       "    'file_name': '__init__.py',\n",
       "    'file_type': 'text/x-python',\n",
       "    'file_size': 328,\n",
       "    'creation_date': '2024-03-25',\n",
       "    'last_modified_date': '2024-03-25'},\n",
       "   'hash': 'e7befd9b893a1dd02be15fbb2dae3e48fed1ec620f51d85d7b1c8049470ca754',\n",
       "   'class_name': 'RelatedNodeInfo'},\n",
       "  <NodeRelationship.NEXT: '3'>: {'node_id': '588c1d0f-eeb4-446f-b309-142c67d908b5',\n",
       "   'node_type': <ObjectType.TEXT: '1'>,\n",
       "   'metadata': {},\n",
       "   'hash': '40939d5b1a73289a7ee1ee24fb108740803229d07cf717f9cf5a95f8f20fcae7',\n",
       "   'class_name': 'RelatedNodeInfo'}},\n",
       " 'start_char_idx': 0,\n",
       " 'end_char_idx': 321,\n",
       " 'text_template': '{metadata_str}\\n\\n{content}',\n",
       " 'metadata_template': '{key}: {value}',\n",
       " 'metadata_seperator': '\\n',\n",
       " 'class_name': 'TextNode'}"
      ]
     },
     "execution_count": 7,
     "metadata": {},
     "output_type": "execute_result"
    }
   ],
   "source": [
    "a.to_dict()"
   ]
  },
  {
   "cell_type": "code",
   "execution_count": null,
   "metadata": {},
   "outputs": [],
   "source": []
  }
 ],
 "metadata": {
  "kernelspec": {
   "display_name": ".venv",
   "language": "python",
   "name": "python3"
  },
  "language_info": {
   "codemirror_mode": {
    "name": "ipython",
    "version": 3
   },
   "file_extension": ".py",
   "mimetype": "text/x-python",
   "name": "python",
   "nbconvert_exporter": "python",
   "pygments_lexer": "ipython3",
   "version": "3.11.6"
  }
 },
 "nbformat": 4,
 "nbformat_minor": 2
}
