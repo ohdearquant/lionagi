{
 "cells": [
  {
   "cell_type": "code",
   "execution_count": 1,
   "metadata": {},
   "outputs": [],
   "source": [
    "from lionagi.core.generic.abstract import BaseNode"
   ]
  },
  {
   "cell_type": "code",
   "execution_count": 2,
   "metadata": {},
   "outputs": [],
   "source": [
    "a = BaseNode(content=\"Hello World\")"
   ]
  },
  {
   "cell_type": "code",
   "execution_count": 3,
   "metadata": {},
   "outputs": [
    {
     "data": {
      "text/plain": [
       "'BaseNode'"
      ]
     },
     "execution_count": 3,
     "metadata": {},
     "output_type": "execute_result"
    }
   ],
   "source": [
    "# basic property, cannot be modified\n",
    "a.class_name"
   ]
  },
  {
   "cell_type": "markdown",
   "metadata": {},
   "source": [
    "### Base Attributes"
   ]
  },
  {
   "cell_type": "code",
   "execution_count": 4,
   "metadata": {},
   "outputs": [
    {
     "name": "stdout",
     "output_type": "stream",
     "text": [
      "id:  1d8148541d7c2886cfbf79a044802b3f\n",
      "timestamp:  2024-04-26T16:39:41.759395+00:00\n",
      "content:  Hello World\n",
      "metadata:  {}\n"
     ]
    }
   ],
   "source": [
    "# id_ is a 32 char string, unique across all base components\n",
    "# timestamp is a ISO formatted string with timezone set to utc\n",
    "# content / metadata are zero initialized\n",
    "\n",
    "print(\"id: \", a.id_)\n",
    "print(\"timestamp: \", a.timestamp)\n",
    "print(\"content: \", a.content)\n",
    "print(\"metadata: \", a.metadata)"
   ]
  },
  {
   "cell_type": "markdown",
   "metadata": {},
   "source": [
    "### Type Conversion "
   ]
  },
  {
   "cell_type": "code",
   "execution_count": 5,
   "metadata": {},
   "outputs": [
    {
     "name": "stdout",
     "output_type": "stream",
     "text": [
      "json_str: \n",
      "\n",
      " {\"id_\": \"1d8148541d7c2886cfbf79a044802b3f\", \"timestamp\": \"2024-04-26T16:39:41.759395+00:00\", \"content\": \"Hello World\", \"metadata\": {}}\n"
     ]
    }
   ],
   "source": [
    "print(\"json_str: \\n\\n\", a.to_json_str())"
   ]
  },
  {
   "cell_type": "code",
   "execution_count": 6,
   "metadata": {},
   "outputs": [
    {
     "name": "stdout",
     "output_type": "stream",
     "text": [
      "dict: \n",
      "\n",
      " {'id_': '1d8148541d7c2886cfbf79a044802b3f', 'timestamp': '2024-04-26T16:39:41.759395+00:00', 'content': 'Hello World', 'metadata': {}}\n"
     ]
    }
   ],
   "source": [
    "print(\"dict: \\n\\n\", a.to_dict())"
   ]
  },
  {
   "cell_type": "code",
   "execution_count": 7,
   "metadata": {},
   "outputs": [
    {
     "name": "stdout",
     "output_type": "stream",
     "text": [
      "xml: \n",
      "\n",
      " <BaseNode><id_>1d8148541d7c2886cfbf79a044802b3f</id_><timestamp>2024-04-26T16:39:41.759395+00:00</timestamp><content>Hello World</content><metadata /></BaseNode>\n"
     ]
    }
   ],
   "source": [
    "print(\"xml: \\n\\n\", a.to_xml())"
   ]
  },
  {
   "cell_type": "code",
   "execution_count": 8,
   "metadata": {},
   "outputs": [
    {
     "name": "stdout",
     "output_type": "stream",
     "text": [
      "pd.Series: \n",
      "\n",
      " id_          1d8148541d7c2886cfbf79a044802b3f\n",
      "timestamp    2024-04-26T16:39:41.759395+00:00\n",
      "content                           Hello World\n",
      "metadata                                   {}\n",
      "dtype: object\n"
     ]
    }
   ],
   "source": [
    "print(\"pd.Series: \\n\\n\", a.to_pd_series())"
   ]
  },
  {
   "cell_type": "markdown",
   "metadata": {},
   "source": [
    "### Field Management"
   ]
  },
  {
   "cell_type": "code",
   "execution_count": 9,
   "metadata": {},
   "outputs": [
    {
     "name": "stdout",
     "output_type": "stream",
     "text": [
      "field annotations: \n",
      "\n",
      " {'id_': ['str'], 'timestamp': ['str'], 'extra_fields': ['dict'], 'content': ['typing.any', 'none'], 'metadata': ['dict']}\n"
     ]
    }
   ],
   "source": [
    "### field annotations, the typing information for each field\n",
    "\n",
    "print(\"field annotations: \\n\\n\", a._field_annotations)"
   ]
  },
  {
   "cell_type": "code",
   "execution_count": 10,
   "metadata": {},
   "outputs": [],
   "source": [
    "# a field of base component can carry plenty information,\n",
    "# and we can set a field after the object is created\n",
    "\n",
    "# there are a few ways of setting a new field\n",
    "\n",
    "a._add_field(\n",
    "    field_name=\"welcome\", annotation=str, default=\"new value\", value=\"hello world again\"\n",
    ")"
   ]
  },
  {
   "cell_type": "code",
   "execution_count": 11,
   "metadata": {},
   "outputs": [
    {
     "data": {
      "text/plain": [
       "{'id_': ['str'],\n",
       " 'timestamp': ['str'],\n",
       " 'extra_fields': ['dict'],\n",
       " 'content': ['typing.any', 'none'],\n",
       " 'metadata': ['dict'],\n",
       " 'welcome': ['str']}"
      ]
     },
     "execution_count": 11,
     "metadata": {},
     "output_type": "execute_result"
    }
   ],
   "source": [
    "# we can check the field annotations again\n",
    "\n",
    "a._field_annotations"
   ]
  },
  {
   "cell_type": "code",
   "execution_count": 12,
   "metadata": {},
   "outputs": [
    {
     "name": "stdout",
     "output_type": "stream",
     "text": [
      "default value: \t new value\n",
      "current value: \t hello world again\n"
     ]
    }
   ],
   "source": [
    "# to access the attributes of a partcular field, we can use the following\n",
    "# for example, we added default value to the field, let's check it\n",
    "\n",
    "print(\"default value: \\t\", a._get_field_attr(\"welcome\", \"default\", None))\n",
    "print(\"current value: \\t\", getattr(a, \"welcome\", None))"
   ]
  },
  {
   "cell_type": "code",
   "execution_count": 13,
   "metadata": {},
   "outputs": [],
   "source": [
    "# you can also add a field by passing in a field object\n",
    "\n",
    "from pydantic import Field\n",
    "\n",
    "field = Field(\n",
    "    default=\"a second hello world\",\n",
    "    description=\"a second welcome message from the base component\",\n",
    ")\n",
    "\n",
    "a._add_field(field_name=\"welcome2\", annotation=str, field=field)"
   ]
  },
  {
   "cell_type": "code",
   "execution_count": 14,
   "metadata": {},
   "outputs": [
    {
     "data": {
      "text/plain": [
       "{'id_': '1d8148541d7c2886cfbf79a044802b3f',\n",
       " 'timestamp': '2024-04-26T16:39:41.759395+00:00',\n",
       " 'content': 'Hello World',\n",
       " 'metadata': {},\n",
       " 'welcome': 'hello world again',\n",
       " 'welcome2': 'a second hello world'}"
      ]
     },
     "execution_count": 14,
     "metadata": {},
     "output_type": "execute_result"
    }
   ],
   "source": [
    "a.to_dict()"
   ]
  },
  {
   "cell_type": "code",
   "execution_count": 15,
   "metadata": {},
   "outputs": [
    {
     "data": {
      "text/plain": [
       "{'welcome': FieldInfo(annotation=str, required=False, default='new value'),\n",
       " 'welcome2': FieldInfo(annotation=str, required=False, default='a second hello world', description='a second welcome message from the base component')}"
      ]
     },
     "execution_count": 15,
     "metadata": {},
     "output_type": "execute_result"
    }
   ],
   "source": [
    "a.extra_fields"
   ]
  },
  {
   "cell_type": "code",
   "execution_count": 16,
   "metadata": {},
   "outputs": [
    {
     "data": {
      "text/plain": [
       "{'id_': ['str'],\n",
       " 'timestamp': ['str'],\n",
       " 'extra_fields': ['dict'],\n",
       " 'content': ['typing.any', 'none'],\n",
       " 'metadata': ['dict'],\n",
       " 'welcome': ['str'],\n",
       " 'welcome2': ['str']}"
      ]
     },
     "execution_count": 16,
     "metadata": {},
     "output_type": "execute_result"
    }
   ],
   "source": [
    "a._field_annotations"
   ]
  },
  {
   "cell_type": "code",
   "execution_count": 17,
   "metadata": {},
   "outputs": [
    {
     "name": "stdout",
     "output_type": "stream",
     "text": [
      "default value: \t a second hello world\n",
      "current value: \t a second hello world\n"
     ]
    }
   ],
   "source": [
    "# notice we didn't set value when adding the field, so it is initialize with default value\n",
    "\n",
    "print(\"default value: \\t\", a._get_field_attr(\"welcome2\", \"default\", None))\n",
    "print(\"current value: \\t\", getattr(a, \"welcome2\", None))"
   ]
  },
  {
   "cell_type": "markdown",
   "metadata": {},
   "source": [
    "### Creation Routine `from_obj`\n",
    "\n",
    "you can create a base node with various data types"
   ]
  },
  {
   "cell_type": "markdown",
   "metadata": {},
   "source": [
    "from `dict`"
   ]
  },
  {
   "cell_type": "code",
   "execution_count": 18,
   "metadata": {},
   "outputs": [
    {
     "data": {
      "text/plain": [
       "{'id_': '58334f7a2b6f00addd29bc5faf97437a',\n",
       " 'timestamp': '2024-04-26T16:39:41.829727+00:00',\n",
       " 'content': None,\n",
       " 'metadata': {},\n",
       " 'a': 1,\n",
       " 'b': 2}"
      ]
     },
     "execution_count": 18,
     "metadata": {},
     "output_type": "execute_result"
    }
   ],
   "source": [
    "# from_obj: dict\n",
    "\n",
    "dict_obj = {\"a\": 1, \"b\": 2}\n",
    "\n",
    "b = BaseNode.from_obj(dict_obj)\n",
    "b.to_dict()"
   ]
  },
  {
   "cell_type": "markdown",
   "metadata": {},
   "source": [
    "from json formatted `str`"
   ]
  },
  {
   "cell_type": "code",
   "execution_count": 19,
   "metadata": {},
   "outputs": [
    {
     "data": {
      "text/plain": [
       "{'id_': 'ffba7b9f328e9fa15ded7b3d49d741e4',\n",
       " 'timestamp': '2024-04-26T16:39:41.838489+00:00',\n",
       " 'content': None,\n",
       " 'metadata': {},\n",
       " 'a': 1,\n",
       " 'b': 2}"
      ]
     },
     "execution_count": 19,
     "metadata": {},
     "output_type": "execute_result"
    }
   ],
   "source": [
    "# from_obj: json_str\n",
    "\n",
    "json_str_obj = '{\"a\": 1, \"b\": 2}'\n",
    "\n",
    "a = BaseNode.from_obj(json_str_obj)\n",
    "a.to_dict()"
   ]
  },
  {
   "cell_type": "code",
   "execution_count": 20,
   "metadata": {},
   "outputs": [
    {
     "data": {
      "text/plain": [
       "{'id_': '6c637138429704c6f2abfbf1c1c816fc',\n",
       " 'timestamp': '2024-04-26T16:39:41.846332+00:00',\n",
       " 'content': None,\n",
       " 'metadata': {},\n",
       " 'name': 'John',\n",
       " 'age': 30,\n",
       " 'city': ['New York', 'DC', 'LA']}"
      ]
     },
     "execution_count": 20,
     "metadata": {},
     "output_type": "execute_result"
    }
   ],
   "source": [
    "# the json str also supports fuzzy parse\n",
    "# here is an incorrectly formated json_str for example\n",
    "json_str_obj = '{\"name\": \"John\", \"age\": 30, \"city\": [\"New York\", \"DC\", \"LA\"]'\n",
    "\n",
    "a = BaseNode.from_obj(json_str_obj, fuzzy_parse=True)\n",
    "a.to_dict()"
   ]
  },
  {
   "cell_type": "markdown",
   "metadata": {},
   "source": [
    "from `pd.Series`"
   ]
  },
  {
   "cell_type": "code",
   "execution_count": 21,
   "metadata": {},
   "outputs": [
    {
     "data": {
      "text/plain": [
       "{'id_': '080256094615d0f00791df84c9143066',\n",
       " 'timestamp': '2024-04-26T16:39:41.851304+00:00',\n",
       " 'content': None,\n",
       " 'metadata': {},\n",
       " 'a': 1,\n",
       " 'b': 2}"
      ]
     },
     "execution_count": 21,
     "metadata": {},
     "output_type": "execute_result"
    }
   ],
   "source": [
    "# you can create a component object from pandas series / dataframe\n",
    "import pandas as pd\n",
    "\n",
    "series_obj = pd.Series({\"a\": 1, \"b\": 2})\n",
    "\n",
    "a = BaseNode.from_obj(series_obj)\n",
    "a.to_dict()"
   ]
  },
  {
   "cell_type": "code",
   "execution_count": 22,
   "metadata": {},
   "outputs": [
    {
     "data": {
      "text/plain": [
       "Index(['a', 'b'], dtype='object')"
      ]
     },
     "execution_count": 22,
     "metadata": {},
     "output_type": "execute_result"
    }
   ],
   "source": [
    "series_obj.index"
   ]
  },
  {
   "cell_type": "code",
   "execution_count": 23,
   "metadata": {},
   "outputs": [
    {
     "data": {
      "text/html": [
       "<div>\n",
       "<style scoped>\n",
       "    .dataframe tbody tr th:only-of-type {\n",
       "        vertical-align: middle;\n",
       "    }\n",
       "\n",
       "    .dataframe tbody tr th {\n",
       "        vertical-align: top;\n",
       "    }\n",
       "\n",
       "    .dataframe thead th {\n",
       "        text-align: right;\n",
       "    }\n",
       "</style>\n",
       "<table border=\"1\" class=\"dataframe\">\n",
       "  <thead>\n",
       "    <tr style=\"text-align: right;\">\n",
       "      <th></th>\n",
       "      <th>a</th>\n",
       "      <th>b</th>\n",
       "    </tr>\n",
       "  </thead>\n",
       "  <tbody>\n",
       "    <tr>\n",
       "      <th>row1</th>\n",
       "      <td>1</td>\n",
       "      <td>3</td>\n",
       "    </tr>\n",
       "    <tr>\n",
       "      <th>row2</th>\n",
       "      <td>2</td>\n",
       "      <td>4</td>\n",
       "    </tr>\n",
       "  </tbody>\n",
       "</table>\n",
       "</div>"
      ],
      "text/plain": [
       "      a  b\n",
       "row1  1  3\n",
       "row2  2  4"
      ]
     },
     "execution_count": 23,
     "metadata": {},
     "output_type": "execute_result"
    }
   ],
   "source": [
    "df = pd.DataFrame({\"a\": [1, 2], \"b\": [3, 4]}, index=[\"row1\", \"row2\"])\n",
    "df"
   ]
  },
  {
   "cell_type": "code",
   "execution_count": 24,
   "metadata": {},
   "outputs": [
    {
     "data": {
      "text/plain": [
       "list"
      ]
     },
     "execution_count": 24,
     "metadata": {},
     "output_type": "execute_result"
    }
   ],
   "source": [
    "# when you create component object from dataframe, the output will be a list of component objects\n",
    "# the index is ignored\n",
    "a = BaseNode.from_obj(df)\n",
    "type(a)"
   ]
  },
  {
   "cell_type": "code",
   "execution_count": 25,
   "metadata": {},
   "outputs": [
    {
     "data": {
      "text/plain": [
       "[BaseNode(id_='af096cdd5714a4461ef4ff5d5962f77e', timestamp='2024-04-26T16:39:41.868919+00:00', extra_fields={}, content=None, metadata={'df_index': 'row1'}, a=1, b=3),\n",
       " BaseNode(id_='5439e1a3730bd20ee9c40975c2ba0427', timestamp='2024-04-26T16:39:41.868973+00:00', extra_fields={}, content=None, metadata={'df_index': 'row2'}, a=2, b=4)]"
      ]
     },
     "execution_count": 25,
     "metadata": {},
     "output_type": "execute_result"
    }
   ],
   "source": [
    "a"
   ]
  },
  {
   "cell_type": "markdown",
   "metadata": {},
   "source": [
    "### from pydantic base model\n",
    "\n",
    "this allows flexible integrations with other packages such as `llama-index` or `langchain`"
   ]
  },
  {
   "cell_type": "code",
   "execution_count": 26,
   "metadata": {},
   "outputs": [
    {
     "data": {
      "text/plain": [
       "llama_index.core.schema.TextNode"
      ]
     },
     "execution_count": 26,
     "metadata": {},
     "output_type": "execute_result"
    }
   ],
   "source": [
    "from llama_index.core.schema import TextNode\n",
    "\n",
    "llama_node = TextNode(content=\"Hello World\")\n",
    "\n",
    "type(llama_node)"
   ]
  },
  {
   "cell_type": "code",
   "execution_count": 27,
   "metadata": {},
   "outputs": [
    {
     "data": {
      "text/plain": [
       "False"
      ]
     },
     "execution_count": 27,
     "metadata": {},
     "output_type": "execute_result"
    }
   ],
   "source": [
    "from pydantic import BaseModel\n",
    "\n",
    "isinstance(llama_node, BaseModel)"
   ]
  },
  {
   "cell_type": "code",
   "execution_count": 28,
   "metadata": {},
   "outputs": [],
   "source": [
    "lion_node = BaseNode.from_obj(llama_node)"
   ]
  },
  {
   "cell_type": "code",
   "execution_count": 29,
   "metadata": {},
   "outputs": [
    {
     "data": {
      "text/plain": [
       "llama_index.core.schema.TextNode"
      ]
     },
     "execution_count": 29,
     "metadata": {},
     "output_type": "execute_result"
    }
   ],
   "source": [
    "type(llama_node)"
   ]
  },
  {
   "cell_type": "code",
   "execution_count": 30,
   "metadata": {},
   "outputs": [
    {
     "data": {
      "text/plain": [
       "BaseNode(id_='035805dc-4969-4c98-8078-deca03330242', timestamp='2024-04-26T16:39:42.505372+00:00', extra_fields={}, content='', metadata={}, embedding=None, excluded_embed_metadata_keys=[], excluded_llm_metadata_keys=[], relationships={}, start_char_idx=None, end_char_idx=None, text_template='{metadata_str}\\n\\n{content}', metadata_template='{key}: {value}', metadata_seperator='\\n', class_name='TextNode')"
      ]
     },
     "execution_count": 30,
     "metadata": {},
     "output_type": "execute_result"
    }
   ],
   "source": [
    "lion_node"
   ]
  },
  {
   "cell_type": "code",
   "execution_count": 31,
   "metadata": {},
   "outputs": [],
   "source": [
    "from langchain.schema import Document\n",
    "\n",
    "lc_doc = Document(page_content=\"Hello World\")"
   ]
  },
  {
   "cell_type": "code",
   "execution_count": 32,
   "metadata": {},
   "outputs": [
    {
     "data": {
      "text/plain": [
       "langchain_core.documents.base.Document"
      ]
     },
     "execution_count": 32,
     "metadata": {},
     "output_type": "execute_result"
    }
   ],
   "source": [
    "type(lc_doc)"
   ]
  },
  {
   "cell_type": "code",
   "execution_count": 33,
   "metadata": {},
   "outputs": [
    {
     "data": {
      "text/plain": [
       "{}"
      ]
     },
     "execution_count": 33,
     "metadata": {},
     "output_type": "execute_result"
    }
   ],
   "source": [
    "lion_node = BaseNode.from_obj(lc_doc)\n",
    "lion_node.metadata"
   ]
  },
  {
   "cell_type": "code",
   "execution_count": 34,
   "metadata": {},
   "outputs": [
    {
     "data": {
      "text/plain": [
       "{'author': 'John Doe'}"
      ]
     },
     "execution_count": 34,
     "metadata": {},
     "output_type": "execute_result"
    }
   ],
   "source": [
    "lion_node.meta_insert(\"author\", \"John Doe\")\n",
    "lion_node.metadata"
   ]
  },
  {
   "cell_type": "code",
   "execution_count": 35,
   "metadata": {},
   "outputs": [
    {
     "data": {
      "text/plain": [
       "{'writer': 'John Doe'}"
      ]
     },
     "execution_count": 35,
     "metadata": {},
     "output_type": "execute_result"
    }
   ],
   "source": [
    "lion_node.meta_change_key(\"author\", \"writer\")\n",
    "lion_node.metadata"
   ]
  },
  {
   "cell_type": "code",
   "execution_count": 36,
   "metadata": {},
   "outputs": [
    {
     "data": {
      "text/plain": [
       "{'writer': 'John Doe', 'published': '2024-01-03'}"
      ]
     },
     "execution_count": 36,
     "metadata": {},
     "output_type": "execute_result"
    }
   ],
   "source": [
    "new_meta = {\"published\": \"2024-01-03\"}\n",
    "\n",
    "lion_node.meta_merge(new_meta)\n",
    "lion_node.metadata"
   ]
  },
  {
   "cell_type": "code",
   "execution_count": 37,
   "metadata": {},
   "outputs": [
    {
     "name": "stdout",
     "output_type": "stream",
     "text": [
      "BaseNode({\"id_\": \"8c4490bda7b97a9529e1c6253dfe8244\", \"timestamp\": \"2024-04-26T16:39:42.657083+00:00\", \"content\": \"Hello World\", \"metadata\": {\"writer\": \"John Doe\", \"published\": \"2024-01-03\"}, \"lc_id\": [\"langchain\", \"schema\", \"document\", \"Document\"]})\n"
     ]
    }
   ],
   "source": [
    "print(lion_node)"
   ]
  }
 ],
 "metadata": {
  "kernelspec": {
   "display_name": ".venv",
   "language": "python",
   "name": "python3"
  },
  "language_info": {
   "codemirror_mode": {
    "name": "ipython",
    "version": 3
   },
   "file_extension": ".py",
   "mimetype": "text/x-python",
   "name": "python",
   "nbconvert_exporter": "python",
   "pygments_lexer": "ipython3",
   "version": "3.11.6"
  }
 },
 "nbformat": 4,
 "nbformat_minor": 2
}
