{
 "cells": [
  {
   "cell_type": "code",
   "execution_count": 1,
   "metadata": {},
   "outputs": [],
   "source": [
    "from lionagi.experimental.work import work, Worker"
   ]
  },
  {
   "cell_type": "code",
   "execution_count": 2,
   "metadata": {},
   "outputs": [],
   "source": [
    "from lionagi import Session\n",
    "\n",
    "\n",
    "class Coder(Worker):\n",
    "    name = \"coder\"\n",
    "\n",
    "    @work(assignment=\"instruction, context -> response\", capacity=5, refresh_time=0.5)\n",
    "    async def chat(instruction=None, context=None):\n",
    "        session = Session()\n",
    "        return await session.chat(instruction, context=context)"
   ]
  },
  {
   "cell_type": "code",
   "execution_count": 3,
   "metadata": {},
   "outputs": [],
   "source": [
    "a = Coder()"
   ]
  },
  {
   "cell_type": "code",
   "execution_count": 4,
   "metadata": {},
   "outputs": [],
   "source": [
    "# calling the function only adds it to the internal worklog\n",
    "\n",
    "for i in range(7):\n",
    "    await a.chat(\"Hello\", context=\"world\")"
   ]
  },
  {
   "cell_type": "code",
   "execution_count": 5,
   "metadata": {},
   "outputs": [],
   "source": [
    "chat_func = a.work_functions[\"chat\"]"
   ]
  },
  {
   "cell_type": "code",
   "execution_count": 6,
   "metadata": {},
   "outputs": [
    {
     "name": "stdout",
     "output_type": "stream",
     "text": [
      "7\n",
      "7\n",
      "5\n"
     ]
    }
   ],
   "source": [
    "print(len(chat_func.worklog.pile))\n",
    "print(len(chat_func.worklog.pending_sequence))\n",
    "print(chat_func.worklog.queue.available_capacity)"
   ]
  },
  {
   "cell_type": "code",
   "execution_count": 7,
   "metadata": {},
   "outputs": [],
   "source": [
    "# as worklog forwards, it push the work to the queue according to the capacity\n",
    "\n",
    "await chat_func.worklog.forward()"
   ]
  },
  {
   "cell_type": "code",
   "execution_count": 8,
   "metadata": {},
   "outputs": [
    {
     "name": "stdout",
     "output_type": "stream",
     "text": [
      "7\n",
      "2\n",
      "None\n"
     ]
    }
   ],
   "source": [
    "# now pending_sequence is one less than before\n",
    "# and the queue available capacity reduced by 1\n",
    "\n",
    "print(len(chat_func.worklog.pile))\n",
    "print(len(chat_func.worklog.pending_sequence))\n",
    "print(chat_func.worklog.queue.available_capacity)"
   ]
  },
  {
   "cell_type": "code",
   "execution_count": 9,
   "metadata": {},
   "outputs": [],
   "source": [
    "await chat_func.worklog.queue.process()"
   ]
  },
  {
   "cell_type": "code",
   "execution_count": 10,
   "metadata": {},
   "outputs": [],
   "source": [
    "completed_work = chat_func.worklog.completed_work"
   ]
  },
  {
   "cell_type": "code",
   "execution_count": 11,
   "metadata": {},
   "outputs": [
    {
     "data": {
      "text/plain": [
       "5"
      ]
     },
     "execution_count": 11,
     "metadata": {},
     "output_type": "execute_result"
    }
   ],
   "source": [
    "len(completed_work)"
   ]
  },
  {
   "cell_type": "code",
   "execution_count": 12,
   "metadata": {},
   "outputs": [
    {
     "name": "stdout",
     "output_type": "stream",
     "text": [
      "Hello! How can I assist you today in the context of \"world\"?\n",
      "Hello, world! How can I assist you today?\n",
      "Hello, world! How can I assist you today?\n",
      "Hello! How can I assist you today in the context of \"world\"?\n",
      "Hello, world! How can I assist you today?\n"
     ]
    }
   ],
   "source": [
    "for _, v in completed_work.items():\n",
    "    print(v.result)"
   ]
  },
  {
   "cell_type": "code",
   "execution_count": 13,
   "metadata": {},
   "outputs": [
    {
     "name": "stdout",
     "output_type": "stream",
     "text": [
      "7\n",
      "2\n",
      "5\n"
     ]
    }
   ],
   "source": [
    "print(len(chat_func.worklog.pile))\n",
    "print(len(chat_func.worklog.pending_sequence))\n",
    "print(chat_func.worklog.queue.available_capacity)"
   ]
  },
  {
   "cell_type": "code",
   "execution_count": 14,
   "metadata": {},
   "outputs": [],
   "source": [
    "await chat_func.worklog.forward()"
   ]
  },
  {
   "cell_type": "code",
   "execution_count": 15,
   "metadata": {},
   "outputs": [
    {
     "data": {
      "text/plain": [
       "7"
      ]
     },
     "execution_count": 15,
     "metadata": {},
     "output_type": "execute_result"
    }
   ],
   "source": [
    "await chat_func.worklog.queue.process()\n",
    "completed_work = chat_func.worklog.completed_work\n",
    "len(completed_work)"
   ]
  },
  {
   "cell_type": "code",
   "execution_count": 16,
   "metadata": {},
   "outputs": [
    {
     "name": "stdout",
     "output_type": "stream",
     "text": [
      "Hello! How can I assist you today in the context of \"world\"?\n",
      "Hello, world! How can I assist you today?\n",
      "Hello, world! How can I assist you today?\n",
      "Hello! How can I assist you today in the context of \"world\"?\n",
      "Hello, world! How can I assist you today?\n",
      "Hello! How can I assist you today within this context?\n",
      "Hello! How can I assist you today?\n"
     ]
    }
   ],
   "source": [
    "for _, v in completed_work.items():\n",
    "    print(v.result)"
   ]
  },
  {
   "cell_type": "code",
   "execution_count": 17,
   "metadata": {},
   "outputs": [
    {
     "name": "stdout",
     "output_type": "stream",
     "text": [
      "7\n",
      "0\n",
      "5\n"
     ]
    }
   ],
   "source": [
    "print(len(chat_func.worklog.pile))\n",
    "print(len(chat_func.worklog.pending_sequence))\n",
    "print(chat_func.worklog.queue.available_capacity)"
   ]
  },
  {
   "cell_type": "code",
   "execution_count": 18,
   "metadata": {},
   "outputs": [
    {
     "name": "stdout",
     "output_type": "stream",
     "text": [
      "Work(id=37dce4b5cb7c5b4bcf72cc56e4884af2, status=COMPLETED, created_at=2024-04-24T22:26:54.477371, completed_at=2024-04-24T22:26:56.015773, execution_duration=1.538237)\n",
      "Work(id=d404027373be81c366955d6ee3e2c3f3, status=COMPLETED, created_at=2024-04-24T22:26:54.477400, completed_at=2024-04-24T22:26:56.172354, execution_duration=1.694793)\n",
      "Work(id=f36a1b269df77f8ab75a8a8cd54c394b, status=COMPLETED, created_at=2024-04-24T22:26:54.477415, completed_at=2024-04-24T22:26:56.172508, execution_duration=1.214810)\n",
      "Work(id=dfd95f3909f5a96b994e8dbcff11f808, status=COMPLETED, created_at=2024-04-24T22:26:54.477426, completed_at=2024-04-24T22:26:56.172632, execution_duration=1.381818)\n",
      "Work(id=032b0d6e06ee3142b5c3eb140de719a0, status=COMPLETED, created_at=2024-04-24T22:26:54.477437, completed_at=2024-04-24T22:26:56.172720, execution_duration=1.497628)\n",
      "Work(id=4214e140629a949928374ba2726359b5, status=COMPLETED, created_at=2024-04-24T22:26:54.477447, completed_at=2024-04-24T22:26:57.196398, execution_duration=1.110967)\n",
      "Work(id=dedf68ed1b265c0c9dd2377729f324dd, status=COMPLETED, created_at=2024-04-24T22:26:54.477457, completed_at=2024-04-24T22:26:57.196592, execution_duration=1.109951)\n"
     ]
    }
   ],
   "source": [
    "for _, v in chat_func.worklog.pile.items():\n",
    "    print(v)"
   ]
  }
 ],
 "metadata": {
  "kernelspec": {
   "display_name": ".venv",
   "language": "python",
   "name": "python3"
  },
  "language_info": {
   "codemirror_mode": {
    "name": "ipython",
    "version": 3
   },
   "file_extension": ".py",
   "mimetype": "text/x-python",
   "name": "python",
   "nbconvert_exporter": "python",
   "pygments_lexer": "ipython3",
   "version": "3.11.6"
  }
 },
 "nbformat": 4,
 "nbformat_minor": 2
}
