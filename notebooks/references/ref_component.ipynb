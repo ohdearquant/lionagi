{
 "cells": [
  {
   "cell_type": "code",
   "execution_count": 1,
   "metadata": {},
   "outputs": [],
   "source": [
    "from typing import Any\n",
    "from pydantic import Field\n",
    "from lionagi.core.generic import BaseComponent\n",
    "\n",
    "\n",
    "class Form(BaseComponent):\n",
    "\n",
    "    form_name: str = Field(\n",
    "        default=\"default_form\",\n",
    "    )\n",
    "    description: Any = Field(default=None)\n",
    "    assignment: str = Field(..., examples=[\"input1, input2 -> output\"])\n",
    "    instruction: Any = Field(\n",
    "        default=None,\n",
    "    )\n",
    "    input_fields: list[str] = Field(default_factory=list)\n",
    "    output_fields: list[str] = Field(default_factory=list)\n",
    "    choices: dict[str, list[str]] = Field(default_factory=dict)\n",
    "    examples: Any = Field(\n",
    "        default=None,\n",
    "    )\n",
    "    out_validation_kwargs: dict[str, Any] = Field(\n",
    "        default_factory=dict, description=\"validation kwargs for output\"\n",
    "    )\n",
    "    in_validation_kwargs: dict[str, Any] = Field(\n",
    "        default_factory=dict, description=\"validation kwargs for input\"\n",
    "    )\n",
    "    fix_input: bool = Field(True, description=\"whether to fix input\")\n",
    "    fix_output: bool = Field(True, description=\"whether to fix output\")\n",
    "    filled: bool = Field(False, description=\"whether the form is completed\")\n",
    "\n",
    "    def work_fields(self):\n",
    "        return self.input_fields + self.output_fields\n",
    "\n",
    "\n",
    "class Form1(Form):\n",
    "    a: str = Field(\"input1\", choices=[\"input1\", \"input2\"])\n",
    "    b: str = \"input2\"\n",
    "    c: str | None = Field(None, choices=[\"output1\", \"output2\"])\n",
    "    assignment: str = \"a, b -> c\"\n",
    "    form_name: str = \"custom_form\"\n",
    "    description: str = \"Test Form\"\n",
    "\n",
    "\n",
    "form = Form1()"
   ]
  },
  {
   "cell_type": "code",
   "execution_count": 2,
   "metadata": {},
   "outputs": [
    {
     "data": {
      "text/plain": [
       "{'id_': ['str'],\n",
       " 'timestamp': ['str'],\n",
       " 'form_name': ['str'],\n",
       " 'description': ['str'],\n",
       " 'assignment': ['str'],\n",
       " 'instruction': ['Any'],\n",
       " 'input_fields': ['list'],\n",
       " 'output_fields': ['list'],\n",
       " 'choices': ['dict'],\n",
       " 'examples': ['Any'],\n",
       " 'out_validation_kwargs': ['dict'],\n",
       " 'in_validation_kwargs': ['dict'],\n",
       " 'fix_input': ['bool'],\n",
       " 'fix_output': ['bool'],\n",
       " 'filled': ['bool'],\n",
       " 'a': ['str'],\n",
       " 'b': ['str'],\n",
       " 'c': ['str', 'none']}"
      ]
     },
     "execution_count": 2,
     "metadata": {},
     "output_type": "execute_result"
    }
   ],
   "source": [
    "form._field_annotations"
   ]
  },
  {
   "cell_type": "code",
   "execution_count": 3,
   "metadata": {},
   "outputs": [
    {
     "data": {
      "text/plain": [
       "True"
      ]
     },
     "execution_count": 3,
     "metadata": {},
     "output_type": "execute_result"
    }
   ],
   "source": [
    "form._field_has_attr(\"a\", \"choices\")"
   ]
  },
  {
   "cell_type": "code",
   "execution_count": 4,
   "metadata": {},
   "outputs": [
    {
     "data": {
      "text/plain": [
       "['input1', 'input2']"
      ]
     },
     "execution_count": 4,
     "metadata": {},
     "output_type": "execute_result"
    }
   ],
   "source": [
    "form._get_field_attr(\"a\", \"choices\")"
   ]
  },
  {
   "cell_type": "code",
   "execution_count": 5,
   "metadata": {},
   "outputs": [
    {
     "data": {
      "text/plain": [
       "'{\"id_\":\"7391dd0ac60da8ef0dab461c5fead79e\",\"timestamp\":\"2024-04-21T17:06:40.080019+00:00\",\"form_name\":\"custom_form\",\"description\":\"Test Form\",\"assignment\":\"a, b -> c\",\"instruction\":null,\"input_fields\":[],\"output_fields\":[],\"choices\":{},\"examples\":null,\"out_validation_kwargs\":{},\"in_validation_kwargs\":{},\"fix_input\":true,\"fix_output\":true,\"filled\":false,\"a\":\"input1\",\"b\":\"input2\",\"c\":null}'"
      ]
     },
     "execution_count": 5,
     "metadata": {},
     "output_type": "execute_result"
    }
   ],
   "source": [
    "form.to_json_str()"
   ]
  },
  {
   "cell_type": "code",
   "execution_count": 6,
   "metadata": {},
   "outputs": [
    {
     "data": {
      "text/plain": [
       "{'id_': '7391dd0ac60da8ef0dab461c5fead79e',\n",
       " 'timestamp': '2024-04-21T17:06:40.080019+00:00',\n",
       " 'form_name': 'custom_form',\n",
       " 'description': 'Test Form',\n",
       " 'assignment': 'a, b -> c',\n",
       " 'instruction': None,\n",
       " 'input_fields': [],\n",
       " 'output_fields': [],\n",
       " 'choices': {},\n",
       " 'examples': None,\n",
       " 'out_validation_kwargs': {},\n",
       " 'in_validation_kwargs': {},\n",
       " 'fix_input': True,\n",
       " 'fix_output': True,\n",
       " 'filled': False,\n",
       " 'a': 'input1',\n",
       " 'b': 'input2',\n",
       " 'c': None}"
      ]
     },
     "execution_count": 6,
     "metadata": {},
     "output_type": "execute_result"
    }
   ],
   "source": [
    "form.to_dict()"
   ]
  },
  {
   "cell_type": "code",
   "execution_count": 7,
   "metadata": {},
   "outputs": [
    {
     "data": {
      "text/plain": [
       "'<Form1><id_>7391dd0ac60da8ef0dab461c5fead79e</id_><timestamp>2024-04-21T17:06:40.080019+00:00</timestamp><form_name>custom_form</form_name><description>Test Form</description><assignment>a, b -&gt; c</assignment><instruction>None</instruction><input_fields>[]</input_fields><output_fields>[]</output_fields><choices /><examples>None</examples><out_validation_kwargs /><in_validation_kwargs /><fix_input>True</fix_input><fix_output>True</fix_output><filled>False</filled><a>input1</a><b>input2</b><c>None</c></Form1>'"
      ]
     },
     "execution_count": 7,
     "metadata": {},
     "output_type": "execute_result"
    }
   ],
   "source": [
    "form.to_xml()"
   ]
  },
  {
   "cell_type": "code",
   "execution_count": 8,
   "metadata": {},
   "outputs": [
    {
     "data": {
      "text/plain": [
       "id_                      7391dd0ac60da8ef0dab461c5fead79e\n",
       "timestamp                2024-04-21T17:06:40.080019+00:00\n",
       "form_name                                     custom_form\n",
       "description                                     Test Form\n",
       "assignment                                      a, b -> c\n",
       "instruction                                          None\n",
       "input_fields                                           []\n",
       "output_fields                                          []\n",
       "choices                                                {}\n",
       "examples                                             None\n",
       "out_validation_kwargs                                  {}\n",
       "in_validation_kwargs                                   {}\n",
       "fix_input                                            True\n",
       "fix_output                                           True\n",
       "filled                                              False\n",
       "a                                                  input1\n",
       "b                                                  input2\n",
       "c                                                    None\n",
       "dtype: object"
      ]
     },
     "execution_count": 8,
     "metadata": {},
     "output_type": "execute_result"
    }
   ],
   "source": [
    "form.to_pd_series()"
   ]
  }
 ],
 "metadata": {
  "kernelspec": {
   "display_name": ".venv",
   "language": "python",
   "name": "python3"
  },
  "language_info": {
   "codemirror_mode": {
    "name": "ipython",
    "version": 3
   },
   "file_extension": ".py",
   "mimetype": "text/x-python",
   "name": "python",
   "nbconvert_exporter": "python",
   "pygments_lexer": "ipython3",
   "version": "3.11.6"
  }
 },
 "nbformat": 4,
 "nbformat_minor": 2
}
